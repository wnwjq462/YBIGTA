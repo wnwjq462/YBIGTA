{
  "nbformat": 4,
  "nbformat_minor": 0,
  "metadata": {
    "kernelspec": {
      "display_name": "Python 3",
      "language": "python",
      "name": "python3"
    },
    "language_info": {
      "codemirror_mode": {
        "name": "ipython",
        "version": 3
      },
      "file_extension": ".py",
      "mimetype": "text/x-python",
      "name": "python",
      "nbconvert_exporter": "python",
      "pygments_lexer": "ipython3",
      "version": "3.7.1"
    },
    "colab": {
      "name": "DL기초 과제.ipynb",
      "provenance": [],
      "collapsed_sections": []
    }
  },
  "cells": [
    {
      "cell_type": "markdown",
      "metadata": {
        "id": "AkG8zd74qT1e"
      },
      "source": [
        "# 과제1: tensorflow를 이용한 NN 밑바닥부터 구현\n",
        "input feature가 100개이고,  \n",
        "hidden layer가 2개이고 neuron이 각각 50,10개이고,  \n",
        "output이 5개인 NN를 구현해 보자  \n",
        "* hidden layer는 relu를 activation function으로, output layer는 softmax를 activation function으로 사용"
      ]
    },
    {
      "cell_type": "code",
      "metadata": {
        "id": "l918gZuzqT1f"
      },
      "source": [
        "\n",
        "import tensorflow as tf\n",
        "import numpy as np\n"
      ],
      "execution_count": 2,
      "outputs": []
    },
    {
      "cell_type": "code",
      "metadata": {
        "id": "3PFL2bDQqT1g"
      },
      "source": [
        "n_x = 100\n",
        "n_h1 = 50\n",
        "n_h2 = 10\n",
        "n_y = 5"
      ],
      "execution_count": 3,
      "outputs": []
    },
    {
      "cell_type": "code",
      "metadata": {
        "colab": {
          "base_uri": "https://localhost:8080/"
        },
        "id": "A2EYeHjBqT1g",
        "outputId": "518bd45f-e048-4b89-ce59-ff94f104f088"
      },
      "source": [
        "# Simulate train set\n",
        "m = 500\n",
        "\n",
        "x_train=np.random.randn(m,n_x).astype(np.float32)\n",
        "y_train=np.zeros((m,n_y)).astype(np.float32)\n",
        "y_train[np.arange(m),np.random.randint(n_y,size=m)]=1\n",
        "\n",
        "print(x_train)\n",
        "print(y_train)"
      ],
      "execution_count": 4,
      "outputs": [
        {
          "output_type": "stream",
          "text": [
            "[[ 0.09292424  1.1226114  -0.14892127 ...  0.35505763 -0.6250185\n",
            "   0.06406063]\n",
            " [-0.19107118 -0.9069979   0.6594785  ... -0.3779809  -0.6777106\n",
            "  -0.8545593 ]\n",
            " [ 0.64288753  0.22239769  0.44552422 ... -1.1086686  -0.512337\n",
            "   1.9436337 ]\n",
            " ...\n",
            " [-0.490124   -0.2075825   2.5523329  ...  0.14187047 -0.88157403\n",
            "  -0.42786354]\n",
            " [-1.0634689   0.05400994 -1.0225669  ...  0.98420775 -0.693838\n",
            "   0.51013905]\n",
            " [-1.3775182  -0.4090183   0.9525749  ...  0.29804707  0.7412376\n",
            "   0.03077603]]\n",
            "[[0. 0. 0. 0. 1.]\n",
            " [0. 1. 0. 0. 0.]\n",
            " [0. 0. 0. 0. 1.]\n",
            " ...\n",
            " [0. 0. 0. 0. 1.]\n",
            " [1. 0. 0. 0. 0.]\n",
            " [0. 0. 0. 1. 0.]]\n"
          ],
          "name": "stdout"
        }
      ]
    },
    {
      "cell_type": "markdown",
      "metadata": {
        "id": "7tE6YwiXqT1h"
      },
      "source": [
        "* Initialization of weights"
      ]
    },
    {
      "cell_type": "code",
      "metadata": {
        "id": "Jvz03bCcqT1h"
      },
      "source": [
        "w1=tf.Variable(1e-3*np.random.randn(n_x,n_h1).astype(np.float32),name=\"w1\")\n",
        "## 코드를 작성해 보세요 ##\n",
        "w2=tf.Variable(1e-3*np.random.randn(n_h1,n_h2).astype(np.float32),name='w2')\n",
        "w3= tf.Variable(1e-3*np.random.randn(n_h2,n_y).astype(np.float32),name='w3')\n"
      ],
      "execution_count": 5,
      "outputs": []
    },
    {
      "cell_type": "markdown",
      "metadata": {
        "id": "RfVRAMt7qT1h"
      },
      "source": [
        "* forward propagation을 통해 prediction 값을 구하고, loss를 구하는 function을 만들어 봅시다"
      ]
    },
    {
      "cell_type": "code",
      "metadata": {
        "id": "qtRDNwbkqT1h"
      },
      "source": [
        "def forward(x):\n",
        "    z1=tf.matmul(x,w1)\n",
        "    a1=tf.nn.relu(z1)\n",
        "    ## 코드를 작성해 보세요 ##\n",
        "    z2=tf.matmul(a1,w2)\n",
        "    a2=tf.nn.relu(z2)\n",
        "    z3=tf.matmul(a2,w3)\n",
        "    predictions = tf.sigmoid(z3)\n",
        "    \n",
        "    return predictions\n",
        "\n",
        "def loss_fn(predictions, y):\n",
        "    loss= -tf.reduce_sum(y*tf.math.log(predictions))\n",
        "    return loss    "
      ],
      "execution_count": 6,
      "outputs": []
    },
    {
      "cell_type": "markdown",
      "metadata": {
        "id": "HN9iFgdWqT1i"
      },
      "source": [
        "* backpropagation & update parameters"
      ]
    },
    {
      "cell_type": "code",
      "metadata": {
        "id": "GLPLh98XqT1i"
      },
      "source": [
        "learning_rate=1e-2\n",
        "optimizer=tf.keras.optimizers.Adam(learning_rate)\n",
        "\n",
        "def train_step(x, y):\n",
        "    with tf.GradientTape() as tape:\n",
        "        predictions = forward(x)\n",
        "        loss = loss_fn(predictions, y)\n",
        "    ## 코드를 작성해 보세요 ## (hint: tape.gradient를 구글링 해보세요)\n",
        "    gradient = tape.gradient(loss,[w1,w2,w3])\n",
        "    # optimizer와 위에서 구한 경사도를 이용해 가중치들을 업데이트 합니다.\n",
        "    optimizer.apply_gradients(zip(gradient, [w1, w2,w3]))\n",
        "    return loss, w1, w2\n"
      ],
      "execution_count": 10,
      "outputs": []
    },
    {
      "cell_type": "markdown",
      "metadata": {
        "id": "6uZnjqD0qT1j"
      },
      "source": [
        "* 간단하게 train loop를 작성해 loss가 줄어나가는지 확인해 봅시다."
      ]
    },
    {
      "cell_type": "code",
      "metadata": {
        "colab": {
          "base_uri": "https://localhost:8080/"
        },
        "id": "wvURXWY5qT1j",
        "outputId": "bd38c620-10b3-4e9e-d0d9-caea18270c0f"
      },
      "source": [
        "loss_list = []\n",
        "\n",
        "for step in range(10): \n",
        "    loss, w1, w2 = train_step(x_train, y_train)\n",
        "    loss_list.append(loss.numpy())\n",
        "    \n",
        "print(loss_list)"
      ],
      "execution_count": 12,
      "outputs": [
        {
          "output_type": "stream",
          "text": [
            "[2.6774156, 1.5584314, 0.91420853, 0.5428622, 0.32769176, 0.20171393, 0.12690982, 0.08173245, 0.053928778, 0.036465935]\n"
          ],
          "name": "stdout"
        }
      ]
    },
    {
      "cell_type": "markdown",
      "metadata": {
        "id": "A5hQuTWwqT1j"
      },
      "source": [
        "# 과제2: MNIST 데이터를 나만의 NN model로 95 % 이상의 성능으로 training 시켜보자!\n",
        "\n",
        "\n",
        "## Loading MNIST training data"
      ]
    },
    {
      "cell_type": "code",
      "metadata": {
        "colab": {
          "base_uri": "https://localhost:8080/"
        },
        "id": "K6iFP5dIqT1j",
        "outputId": "95880b02-d3db-4aed-ef5f-2e9a1b5c4c11"
      },
      "source": [
        "from tensorflow import keras\n",
        "\n",
        "# import matplotlib\n",
        "import matplotlib.pyplot as plt\n",
        "%matplotlib inline\n",
        "\n",
        "# Loading the data\n",
        "(x_train, y_train), (x_test, y_test) = tf.keras.datasets.mnist.load_data()\n",
        "\n",
        "# Scaling(image data는 min-max scaling 주로 사용)\n",
        "x_train = x_train/255.0\n",
        "x_test = x_test/255.0"
      ],
      "execution_count": 3,
      "outputs": [
        {
          "output_type": "stream",
          "text": [
            "Downloading data from https://storage.googleapis.com/tensorflow/tf-keras-datasets/mnist.npz\n",
            "11493376/11490434 [==============================] - 0s 0us/step\n"
          ],
          "name": "stdout"
        }
      ]
    },
    {
      "cell_type": "markdown",
      "metadata": {
        "id": "_rsG5vOVqT1k"
      },
      "source": [
        "## Training Data\n",
        "28 * 28 pixel 값을 가진 총 60000개의 이미지 데이터"
      ]
    },
    {
      "cell_type": "code",
      "metadata": {
        "colab": {
          "base_uri": "https://localhost:8080/"
        },
        "id": "8HUDTArRqT1k",
        "outputId": "3cd95e07-f28d-42ea-e7e6-63546fb37aa2"
      },
      "source": [
        "x_train.shape "
      ],
      "execution_count": 4,
      "outputs": [
        {
          "output_type": "execute_result",
          "data": {
            "text/plain": [
              "(60000, 28, 28)"
            ]
          },
          "metadata": {
            "tags": []
          },
          "execution_count": 4
        }
      ]
    },
    {
      "cell_type": "code",
      "metadata": {
        "colab": {
          "base_uri": "https://localhost:8080/",
          "height": 265
        },
        "id": "0d8Qov_f5Y2z",
        "outputId": "83b6e1f8-c777-4791-a89d-3a4415c247be"
      },
      "source": [
        "plt.imshow(x_train[0]).set_cmap('Greys')"
      ],
      "execution_count": 5,
      "outputs": [
        {
          "output_type": "display_data",
          "data": {
            "image/png": "[encoded data removed]",
            "text/plain": [
              "<Figure size 432x288 with 1 Axes>"
            ]
          },
          "metadata": {
            "tags": [],
            "needs_background": "light"
          }
        }
      ]
    },
    {
      "cell_type": "markdown",
      "metadata": {
        "id": "V9g-7H1bqT1k"
      },
      "source": [
        "Neural network 모델에 맞게 이미지 데이터를 벡터 형태로 데이터를 reshape 합니다.  \n",
        "(Model을 만들 때 *keras.layers.Flatten(input_shape=(28, 28)) 이용해도 됨)"
      ]
    },
    {
      "cell_type": "code",
      "metadata": {
        "colab": {
          "base_uri": "https://localhost:8080/"
        },
        "id": "VX8uhn92qT1k",
        "outputId": "f8a6aa87-cb3c-4887-84ce-9583947bb10d"
      },
      "source": [
        "x_train, x_test = x_train.reshape((-1, 28*28)), x_test.reshape((-1, 28*28))\n",
        "x_train.shape, x_test.shape"
      ],
      "execution_count": 6,
      "outputs": [
        {
          "output_type": "execute_result",
          "data": {
            "text/plain": [
              "((60000, 784), (10000, 784))"
            ]
          },
          "metadata": {
            "tags": []
          },
          "execution_count": 6
        }
      ]
    },
    {
      "cell_type": "markdown",
      "metadata": {
        "id": "wNBlJ0eCqT1l"
      },
      "source": [
        "## Training Labels\n",
        "이미지 데이터가 나타내는 숫자값을 label로 가지고 있고, 0부터 9까지의 값을 나타냄  \n",
        "마찬가지로, 60000개의 label이 존재"
      ]
    },
    {
      "cell_type": "code",
      "metadata": {
        "id": "RcCClKa2qT1l"
      },
      "source": [
        "y_train.shape\n",
        "y_train = tf.keras.utils.to_categorical(y_train, 10)\n",
        "y_test = tf.keras.utils.to_categorical(y_test,10)"
      ],
      "execution_count": 26,
      "outputs": []
    },
    {
      "cell_type": "code",
      "metadata": {
        "colab": {
          "base_uri": "https://localhost:8080/"
        },
        "id": "XKEBga8-qT1l",
        "outputId": "ee4079b6-352c-45de-9134-ba6dbcf6af4a"
      },
      "source": [
        "# show MNIST label for above data\n",
        "y_train[0]"
      ],
      "execution_count": 17,
      "outputs": [
        {
          "output_type": "execute_result",
          "data": {
            "text/plain": [
              "array([0., 0., 0., 0., 0., 1., 0., 0., 0., 0.], dtype=float32)"
            ]
          },
          "metadata": {
            "tags": []
          },
          "execution_count": 17
        }
      ]
    },
    {
      "cell_type": "markdown",
      "metadata": {
        "id": "EQbbcX_sqT1l"
      },
      "source": [
        "## 나만의 모델을 tensorflow keras API 를 이용해 만들어 봅시다~"
      ]
    },
    {
      "cell_type": "markdown",
      "metadata": {
        "id": "AyvvL0AwqT1l"
      },
      "source": [
        "* parameters for model"
      ]
    },
    {
      "cell_type": "code",
      "metadata": {
        "id": "PSCBpO5LqT1l"
      },
      "source": [
        "activation_list = [\"sigmoid\", \"relu\", \"softmax\", \"tanh\"]\n",
        "\n",
        "loss_list = [\"sparse_categorical_crossentropy\",\n",
        "             \"categorical_crossentropy\", \n",
        "             \"binary_crossentropy\"]\n",
        "\n",
        "optimizer_list = [\"sgd\", \"adam\", \"rmsprop\", \"adagrad\"]\n",
        "\n",
        "initializer_list = [tf.keras.initializers.RandomNormal(), \n",
        "                    tf.keras.initializers.RandomUniform(), \n",
        "                    tf.keras.initializers.he_normal(), \n",
        "                    tf.keras.initializers.he_uniform(), \n",
        "                    tf.keras.initializers.GlorotUniform(),\n",
        "                    tf.keras.initializers.GlorotNormal()]\n",
        "\n",
        "# dropout\n",
        "dropout_rate = 0.3\n",
        "model = tf.keras.Sequential([\n",
        "    tf.keras.layers.Dense(256, input_dim=784, activation = \"sigmoid\"),\n",
        "    tf.keras.layers.Dense(2, activation = \"sigmoid\"),\n",
        "    tf.keras.layers.Dropout(dropout_rate)\n",
        "])\n",
        "\n",
        "\n",
        "# regularizer\n",
        "regularizer = tf.keras.regularizers.l1(1e-3)\n",
        "regularizer = tf.keras.regularizers.l2(1e-3)\n",
        "model = tf.keras.Sequential([\n",
        "    tf.keras.layers.Dense(256, input_dim=784, activation=\"sigmoid\",\n",
        "                          activity_regularizer=regularizer)\n",
        "])\n",
        "\n",
        "# weight initialization\n",
        "model = tf.keras.Sequential([\n",
        "    tf.keras.layers.Dense(256, input_dim=784, activation=\"sigmoid\",\n",
        "                          kernel_initializer=initializer_list[0])\n",
        "])"
      ],
      "execution_count": 9,
      "outputs": []
    },
    {
      "cell_type": "markdown",
      "metadata": {
        "id": "v8YZNSu3qT1m"
      },
      "source": [
        "#### My Own Model "
      ]
    },
    {
      "cell_type": "code",
      "metadata": {
        "id": "dtbbIE48qT1m"
      },
      "source": [
        "#### 자유롭게 Model을 만들고 compile 해봅시다 ####\n",
        "model = tf.keras.Sequential([\n",
        "                             tf.keras.layers.Dense(256,input_dim=784,activity_regularizer=regularizer, kernel_initializer=initializer_list[0]),\n",
        "                             tf.keras.layers.Dense(256),\n",
        "                             tf.keras.layers.Dense(256,activation='tanh'),\n",
        "                             tf.keras.layers.Dense(10,activation='softmax')\n",
        "])\n",
        "model.compile(optimizer = 'rmsprop', loss = 'categorical_crossentropy', metrics = ['accuracy'])"
      ],
      "execution_count": 22,
      "outputs": []
    },
    {
      "cell_type": "markdown",
      "metadata": {
        "id": "aBuKCfB09-Id"
      },
      "source": [
        ""
      ]
    },
    {
      "cell_type": "markdown",
      "metadata": {
        "id": "gmwXh4WcqT1m"
      },
      "source": [
        "내가 만든 모델을 확인해 봅시다."
      ]
    },
    {
      "cell_type": "code",
      "metadata": {
        "colab": {
          "base_uri": "https://localhost:8080/"
        },
        "id": "JCDwuCYoqT1m",
        "outputId": "3fd41cc1-1e58-4999-f739-a4953d634185"
      },
      "source": [
        "model.summary()"
      ],
      "execution_count": 23,
      "outputs": [
        {
          "output_type": "stream",
          "text": [
            "Model: \"sequential_5\"\n",
            "_________________________________________________________________\n",
            "Layer (type)                 Output Shape              Param #   \n",
            "=================================================================\n",
            "dense_12 (Dense)             (None, 256)               200960    \n",
            "_________________________________________________________________\n",
            "dense_13 (Dense)             (None, 256)               65792     \n",
            "_________________________________________________________________\n",
            "dense_14 (Dense)             (None, 256)               65792     \n",
            "_________________________________________________________________\n",
            "dense_15 (Dense)             (None, 10)                2570      \n",
            "=================================================================\n",
            "Total params: 335,114\n",
            "Trainable params: 335,114\n",
            "Non-trainable params: 0\n",
            "_________________________________________________________________\n"
          ],
          "name": "stdout"
        }
      ]
    },
    {
      "cell_type": "markdown",
      "metadata": {
        "id": "YhxiB0RVqT1m"
      },
      "source": [
        "model을 자유롭게 train 해봅시다.  "
      ]
    },
    {
      "cell_type": "code",
      "metadata": {
        "colab": {
          "base_uri": "https://localhost:8080/"
        },
        "id": "-w9wjBY3qT1n",
        "outputId": "3a46911b-7316-4fa4-de52-7981a57ae85f"
      },
      "source": [
        "\n",
        "\n",
        "model.fit(x_train,y_train,epochs=20, batch_size=64)"
      ],
      "execution_count": 24,
      "outputs": [
        {
          "output_type": "stream",
          "text": [
            "Epoch 1/20\n",
            "938/938 [==============================] - 7s 7ms/step - loss: 0.4800 - accuracy: 0.8682\n",
            "Epoch 2/20\n",
            "938/938 [==============================] - 7s 7ms/step - loss: 0.2226 - accuracy: 0.9494\n",
            "Epoch 3/20\n",
            "938/938 [==============================] - 6s 7ms/step - loss: 0.1858 - accuracy: 0.9588\n",
            "Epoch 4/20\n",
            "938/938 [==============================] - 6s 7ms/step - loss: 0.1723 - accuracy: 0.9614\n",
            "Epoch 5/20\n",
            "938/938 [==============================] - 6s 7ms/step - loss: 0.1591 - accuracy: 0.9662\n",
            "Epoch 6/20\n",
            "938/938 [==============================] - 6s 7ms/step - loss: 0.1466 - accuracy: 0.9692\n",
            "Epoch 7/20\n",
            "938/938 [==============================] - 6s 7ms/step - loss: 0.1495 - accuracy: 0.9680\n",
            "Epoch 8/20\n",
            "938/938 [==============================] - 7s 7ms/step - loss: 0.1382 - accuracy: 0.9708\n",
            "Epoch 9/20\n",
            "938/938 [==============================] - 7s 7ms/step - loss: 0.1384 - accuracy: 0.9712\n",
            "Epoch 10/20\n",
            "938/938 [==============================] - 6s 7ms/step - loss: 0.1322 - accuracy: 0.9735\n",
            "Epoch 11/20\n",
            "938/938 [==============================] - 7s 8ms/step - loss: 0.1307 - accuracy: 0.9738\n",
            "Epoch 12/20\n",
            "938/938 [==============================] - 7s 8ms/step - loss: 0.1312 - accuracy: 0.9731\n",
            "Epoch 13/20\n",
            "938/938 [==============================] - 7s 7ms/step - loss: 0.1307 - accuracy: 0.9739\n",
            "Epoch 14/20\n",
            "938/938 [==============================] - 6s 7ms/step - loss: 0.1246 - accuracy: 0.9754\n",
            "Epoch 15/20\n",
            "938/938 [==============================] - 6s 7ms/step - loss: 0.1300 - accuracy: 0.9748\n",
            "Epoch 16/20\n",
            "938/938 [==============================] - 6s 7ms/step - loss: 0.1284 - accuracy: 0.9757\n",
            "Epoch 17/20\n",
            "938/938 [==============================] - 7s 7ms/step - loss: 0.1241 - accuracy: 0.9758\n",
            "Epoch 18/20\n",
            "938/938 [==============================] - 6s 7ms/step - loss: 0.1259 - accuracy: 0.9756\n",
            "Epoch 19/20\n",
            "938/938 [==============================] - 7s 7ms/step - loss: 0.1214 - accuracy: 0.9766\n",
            "Epoch 20/20\n",
            "938/938 [==============================] - 7s 7ms/step - loss: 0.1222 - accuracy: 0.9768\n"
          ],
          "name": "stdout"
        },
        {
          "output_type": "execute_result",
          "data": {
            "text/plain": [
              "<tensorflow.python.keras.callbacks.History at 0x7fe096a37518>"
            ]
          },
          "metadata": {
            "tags": []
          },
          "execution_count": 24
        }
      ]
    },
    {
      "cell_type": "markdown",
      "metadata": {
        "id": "S5Aqk-AjqT1n"
      },
      "source": [
        "95%이상의 성능을 가진 모델을 만들면 완성!"
      ]
    },
    {
      "cell_type": "code",
      "metadata": {
        "colab": {
          "base_uri": "https://localhost:8080/"
        },
        "id": "v4WeOrUwqT1n",
        "outputId": "88b5a801-8f05-4b0f-ad20-38546217a113"
      },
      "source": [
        "test_loss, test_acc =  model.evaluate(x_test,y_test, verbose=2)\n",
        "\n",
        "print('\\nAccuracy:', test_acc)"
      ],
      "execution_count": 27,
      "outputs": [
        {
          "output_type": "stream",
          "text": [
            "313/313 - 1s - loss: 0.1599 - accuracy: 0.9685\n",
            "\n",
            "Accuracy: 0.968500018119812\n"
          ],
          "name": "stdout"
        }
      ]
    },
    {
      "cell_type": "markdown",
      "metadata": {
        "collapsed": true,
        "id": "UqOAzJmfqT1n"
      },
      "source": [
        "![](https://www.tensorflow.org/versions/master/images/mnist_tensorboard.png)"
      ]
    }
  ]
}